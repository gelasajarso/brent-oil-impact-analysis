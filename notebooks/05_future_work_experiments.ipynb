{
 "cells": [
  {
   "cell_type": "markdown",
   "id": "40db0b52",
   "metadata": {},
   "source": [
    "# (Optional: VAR, Markov Switching, etc.)"
   ]
  }
 ],
 "metadata": {
  "language_info": {
   "name": "python"
  }
 },
 "nbformat": 4,
 "nbformat_minor": 5
}
