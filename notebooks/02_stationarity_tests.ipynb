{
 "cells": [
  {
   "cell_type": "markdown",
   "id": "60bf84ad",
   "metadata": {},
   "source": [
    "# ADF, KPSS, transformations"
   ]
  }
 ],
 "metadata": {
  "language_info": {
   "name": "python"
  }
 },
 "nbformat": 4,
 "nbformat_minor": 5
}
