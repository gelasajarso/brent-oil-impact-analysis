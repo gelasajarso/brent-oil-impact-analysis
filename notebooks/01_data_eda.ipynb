{
 "cells": [
  {
   "cell_type": "markdown",
   "id": "130e8d2e",
   "metadata": {},
   "source": [
    "# Task 1: Data loading, trends, EDA"
   ]
  }
 ],
 "metadata": {
  "language_info": {
   "name": "python"
  }
 },
 "nbformat": 4,
 "nbformat_minor": 5
}
