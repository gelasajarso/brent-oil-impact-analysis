{
 "cells": [
  {
   "cell_type": "markdown",
   "id": "58e3f004",
   "metadata": {},
   "source": [
    "# Task 2: PyMC3 modeling"
   ]
  }
 ],
 "metadata": {
  "language_info": {
   "name": "python"
  }
 },
 "nbformat": 4,
 "nbformat_minor": 5
}
